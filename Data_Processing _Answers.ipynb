{
 "cells": [
  {
   "cell_type": "markdown",
   "metadata": {
    "colab_type": "text",
    "id": "lx277T7Vp9Cm"
   },
   "source": [
    "# Basic Data Processing with Pandas\n",
    "\n",
    "Pandas (short for “Python Data Analysis Library ”) is a Python package built on top of Numpy.  It is useful for special array handling, data manipulation, plotting, and web scraping.  \n",
    "\n",
    "Pandas is particularly strong in the area of handling spreadsheet structures, dealing with missing data, and processing time series data.\n",
    "\n"
   ]
  },
  {
   "cell_type": "markdown",
   "metadata": {
    "colab_type": "text",
    "id": "7XvzZDH6p9Cm"
   },
   "source": [
    "These are the new data types introduced by pandas (most used ones are in bold):\n",
    "\n",
    "- **Series**: 1D labeled homogeneously-typed array.\n",
    "- **DataFrame**: General 2D labeled, size-mutable tabular structure with potentially heterogeneously-typed columns.\n",
    "- *Time Series*: Series with index containing datetimes.\n",
    "- *Panel*: General 3D labeled, also size-mutable array.\n",
    "\n",
    "Import the package, as follows:"
   ]
  },
  {
   "cell_type": "code",
   "execution_count": null,
   "metadata": {
    "colab": {},
    "colab_type": "code",
    "id": "oHpq2E3lp9Cn"
   },
   "outputs": [],
   "source": [
    "import numpy as np\n",
    "import pandas as pd"
   ]
  },
  {
   "cell_type": "markdown",
   "metadata": {
    "colab_type": "text",
    "id": "m7f6iGV-p9Cq"
   },
   "source": [
    "## 1. Series\n",
    "\n",
    "- A series is a one-dimensional array-like object.   \n",
    "- Each element has an associated data label, called its *index*. By default, the index consists of ordinary array indices, i.e. consecutive integers starting from zero.\n",
    "### 1.1 Series Operations"
   ]
  },
  {
   "cell_type": "code",
   "execution_count": null,
   "metadata": {
    "colab": {},
    "colab_type": "code",
    "id": "Cc3eCC7Rp9Cr",
    "outputId": "d7a37134-21a7-42bc-b20e-c816bc8ffea6"
   },
   "outputs": [],
   "source": [
    "series1 = pd.Series(['Alice', 'Bob', 'Charlie', 'Dahlia'])\n",
    "series1"
   ]
  },
  {
   "cell_type": "code",
   "execution_count": null,
   "metadata": {},
   "outputs": [],
   "source": [
    "#add a name\n",
    "series1 = pd.Series(['Alice', 'Bob', 'Charlie', 'Dahlia'], name ='name')\n",
    "series1"
   ]
  },
  {
   "cell_type": "code",
   "execution_count": null,
   "metadata": {
    "colab": {},
    "colab_type": "code",
    "id": "_xlUWlT0p9Cu",
    "outputId": "b2ded870-c479-439d-92b1-2c6a708c8e36"
   },
   "outputs": [],
   "source": [
    "series1.index  #this is the default index"
   ]
  },
  {
   "cell_type": "markdown",
   "metadata": {
    "colab_type": "text",
    "id": "DNfH2CUjp9Cx"
   },
   "source": [
    "- An entry can be retrieved using the index, as follows:"
   ]
  },
  {
   "cell_type": "code",
   "execution_count": null,
   "metadata": {
    "colab": {},
    "colab_type": "code",
    "id": "5Hmyj7cMp9Cx",
    "outputId": "81c9baf4-b95f-4b9e-b3e1-43500963b833"
   },
   "outputs": [],
   "source": [
    "series1[0]"
   ]
  },
  {
   "cell_type": "markdown",
   "metadata": {
    "colab_type": "text",
    "id": "rUztycpsp9C0"
   },
   "source": [
    "- Often it will be more desirable to create a series with a custom index. \n",
    "- Here the index is manually set the index from 101 to 104"
   ]
  },
  {
   "cell_type": "code",
   "execution_count": null,
   "metadata": {
    "colab": {},
    "colab_type": "code",
    "id": "6al4wfL4p9C0",
    "outputId": "6e89c455-ae5f-4a21-b747-7b28863f6b45"
   },
   "outputs": [],
   "source": [
    "series2 = pd.Series(['Alice', 'Bob', 'Charlie', 'Dahlia'], index=[101, 102, 103, 104])\n",
    "series2"
   ]
  },
  {
   "cell_type": "markdown",
   "metadata": {
    "colab_type": "text",
    "id": "YYmtq6kVp9C3"
   },
   "source": [
    "- Calling that entry gives both values.  In this way a series is different from a dictionary."
   ]
  },
  {
   "cell_type": "code",
   "execution_count": null,
   "metadata": {
    "colab": {},
    "colab_type": "code",
    "id": "fRX8AExmp9C4",
    "outputId": "3a614ab0-fa58-48ee-9ae2-c3c009d46b20"
   },
   "outputs": [],
   "source": [
    "series2.index #custom index"
   ]
  },
  {
   "cell_type": "code",
   "execution_count": null,
   "metadata": {
    "colab": {},
    "colab_type": "code",
    "id": "tRWOhYs6p9C6",
    "outputId": "dd7be8ad-8568-488a-8b3d-4d039c232544"
   },
   "outputs": [],
   "source": [
    "series2[101]"
   ]
  },
  {
   "cell_type": "markdown",
   "metadata": {
    "colab_type": "text",
    "id": "ktJZJnUqp9DC"
   },
   "source": [
    "- The attribute `values` returns all the values."
   ]
  },
  {
   "cell_type": "code",
   "execution_count": null,
   "metadata": {
    "colab": {},
    "colab_type": "code",
    "id": "QgQTWTsbp9DD",
    "outputId": "f8537c81-12d2-4699-a6e0-d2571665b2cd"
   },
   "outputs": [],
   "source": [
    "series2.values"
   ]
  },
  {
   "cell_type": "code",
   "execution_count": null,
   "metadata": {
    "colab": {},
    "colab_type": "code",
    "id": "9FaD937Mp9DF",
    "outputId": "e13101de-ad0c-4071-b02b-79ee0494c43a"
   },
   "outputs": [],
   "source": [
    "series2.values[1]   # obj.values is simply an array "
   ]
  },
  {
   "cell_type": "markdown",
   "metadata": {
    "colab_type": "text",
    "id": "d8SnjGlxp9DI"
   },
   "source": [
    "### 1.2 Series and the Dictionary object\n",
    "#### Dictionaries\n",
    "Dictionaries are also what they sound like - a list of definitions that correspond to unique terms.\n",
    "\n",
    "*Keys* and *values* are to a dictionary what words and their definitions are to an English dictionary. \n",
    "\n",
    "Each entry in a dictionary is called a key-value pair, and they are bound together by a colon `:` . \n",
    "\n",
    "To create a dictionary, use curly braces and declare each key-value pair separated by commas"
   ]
  },
  {
   "cell_type": "code",
   "execution_count": null,
   "metadata": {},
   "outputs": [],
   "source": [
    "student_id = {\n",
    "    101: 'Alice', # a key-value pair\n",
    "    102: 'Bob',\n",
    "    103: 'Charlie',\n",
    "    104: 'Dahlia',\n",
    "}\n",
    "student_id"
   ]
  },
  {
   "cell_type": "markdown",
   "metadata": {},
   "source": [
    "Similarly to a list, you can use brackets to access the value, but this time with the key (instead of the index)"
   ]
  },
  {
   "cell_type": "code",
   "execution_count": null,
   "metadata": {},
   "outputs": [],
   "source": [
    "student_id[101]"
   ]
  },
  {
   "cell_type": "markdown",
   "metadata": {},
   "source": [
    "The Series object is similar to a dictionary, `Series.index` is like `dictionary.keys`, and `Series.values` is like `dictionary.values`. Directly convert a dictionary to a Series, as follows:"
   ]
  },
  {
   "cell_type": "code",
   "execution_count": null,
   "metadata": {
    "colab": {},
    "colab_type": "code",
    "id": "oyeQzj2Op9DI",
    "outputId": "ee06e59b-45a5-4e31-e95e-a34c5497a6f0"
   },
   "outputs": [],
   "source": [
    "series3 = pd.Series(student_id)\n",
    "series3 "
   ]
  },
  {
   "cell_type": "markdown",
   "metadata": {
    "colab_type": "text",
    "id": "tU5xUbbYp9DL"
   },
   "source": [
    "Convert a Series back to a dictionary."
   ]
  },
  {
   "cell_type": "code",
   "execution_count": null,
   "metadata": {
    "colab": {},
    "colab_type": "code",
    "id": "LEB0uA83p9DM",
    "outputId": "61744ab0-9623-426f-def6-340350beacb5"
   },
   "outputs": [],
   "source": [
    "series3.to_dict()"
   ]
  },
  {
   "cell_type": "markdown",
   "metadata": {
    "colab_type": "text",
    "id": "hu9pqkujp9DR"
   },
   "source": [
    "## 2. DataFrame\n",
    "\n",
    "- A data frame represents a tabular, spreadsheet-like data structure containing an ordered collection of columns.\n",
    "- Each column can be a different type (integers, strings, floating point numbers, Python objects, etc.).  \n",
    "\n",
    "### 2.1 Creating DataFrames\n",
    "A DataFrame may be created using a dict "
   ]
  },
  {
   "cell_type": "code",
   "execution_count": null,
   "metadata": {
    "colab": {},
    "colab_type": "code",
    "id": "uImT3vvgp9DR",
    "outputId": "7f324cc3-5824-4926-c089-0c216dc98e51"
   },
   "outputs": [],
   "source": [
    "#declare dict object\n",
    "data = {'commodity': ['Gold', 'Gold', 'Silver', 'Silver'],\n",
    "        'year': [2016, 2017, 2018, 2019],\n",
    "        'production_moz': [107.6, 109.7, 868.3, 886.7]} #world wide in million oz\n",
    "\n",
    "# convert to DataFrame\n",
    "df = pd.DataFrame(data)\n",
    "df"
   ]
  },
  {
   "cell_type": "markdown",
   "metadata": {},
   "source": [
    "Heres how it is done using nested lists"
   ]
  },
  {
   "cell_type": "code",
   "execution_count": null,
   "metadata": {},
   "outputs": [],
   "source": [
    "df_2=pd.DataFrame([['Gold', 2016, 107.6],\n",
    "                   ['Gold', 2017, 109.7],\n",
    "                   ['Silver', 2018, 868.3],\n",
    "                   ['Silver', 2019, 886.7]], \n",
    "                    columns=['commodity','year','production_moz'])\n",
    "df_2"
   ]
  },
  {
   "cell_type": "markdown",
   "metadata": {},
   "source": [
    "The column names can be accessed by"
   ]
  },
  {
   "cell_type": "code",
   "execution_count": null,
   "metadata": {
    "colab": {},
    "colab_type": "code",
    "id": "fZNUf80Vp9DU",
    "outputId": "8ceddd6a-9127-4dfe-f823-c9e93ca6b408"
   },
   "outputs": [],
   "source": [
    "df.columns "
   ]
  },
  {
   "cell_type": "markdown",
   "metadata": {},
   "source": [
    "It also has an index attribute"
   ]
  },
  {
   "cell_type": "code",
   "execution_count": null,
   "metadata": {
    "colab": {},
    "colab_type": "code",
    "id": "YFWquuZ0p9DX",
    "outputId": "efb0e85e-f398-4ebc-9f7f-971c0370b787"
   },
   "outputs": [],
   "source": [
    "df.index #standard index"
   ]
  },
  {
   "cell_type": "markdown",
   "metadata": {
    "colab_type": "text",
    "id": "RFOcoUavp9Df"
   },
   "source": [
    "- The index may be set using the method `set_index`, as follows:"
   ]
  },
  {
   "cell_type": "code",
   "execution_count": null,
   "metadata": {
    "colab": {},
    "colab_type": "code",
    "id": "O-V53DGip9Dg",
    "outputId": "660485fd-b975-44cc-a96e-2428950c207d"
   },
   "outputs": [],
   "source": [
    "df=df.set_index('commodity')\n",
    "df"
   ]
  },
  {
   "cell_type": "markdown",
   "metadata": {
    "colab_type": "text",
    "id": "ad6gy5Ozp9Ds"
   },
   "source": [
    "- The dataframe can restore the original index using the mathod `reset_index`, as follows:"
   ]
  },
  {
   "cell_type": "code",
   "execution_count": null,
   "metadata": {
    "colab": {},
    "colab_type": "code",
    "id": "QnZFPo9-p9Dt",
    "outputId": "c468f0c1-bc89-45ef-c36e-266c5c44e612"
   },
   "outputs": [],
   "source": [
    "df = df.reset_index()\n",
    "df"
   ]
  },
  {
   "cell_type": "code",
   "execution_count": null,
   "metadata": {
    "colab": {},
    "colab_type": "code",
    "id": "L0p_tpoGp9Di",
    "outputId": "bc87e27c-fcd0-4ce9-cebd-eb3a5e432014"
   },
   "outputs": [],
   "source": [
    "df.index #custom string index"
   ]
  },
  {
   "cell_type": "markdown",
   "metadata": {
    "colab_type": "text",
    "id": "wgjjqfJQp9EC"
   },
   "source": [
    "- The names of columns may be changed as follows:"
   ]
  },
  {
   "cell_type": "code",
   "execution_count": null,
   "metadata": {
    "colab": {},
    "colab_type": "code",
    "id": "4Fcw-etPp9ED",
    "outputId": "5d2e262c-5810-4560-d216-871e9ff15b32"
   },
   "outputs": [],
   "source": [
    "df.columns=['commodity', 'year','production']\n",
    "df"
   ]
  },
  {
   "cell_type": "markdown",
   "metadata": {},
   "source": [
    "### 2.2. Reading a csv to a Dataframe\n",
    "Lets read a dataframe from a comma separated values (csv) file"
   ]
  },
  {
   "cell_type": "code",
   "execution_count": null,
   "metadata": {},
   "outputs": [],
   "source": [
    "df = pd.read_csv(\"zoo.csv\")\n",
    "df"
   ]
  },
  {
   "cell_type": "markdown",
   "metadata": {},
   "source": [
    "Some initial methods to check the read file"
   ]
  },
  {
   "cell_type": "code",
   "execution_count": null,
   "metadata": {},
   "outputs": [],
   "source": [
    "len(df)   #how many rows?"
   ]
  },
  {
   "cell_type": "code",
   "execution_count": null,
   "metadata": {},
   "outputs": [],
   "source": [
    "df.head()      #check first 5 rows"
   ]
  },
  {
   "cell_type": "code",
   "execution_count": null,
   "metadata": {},
   "outputs": [],
   "source": [
    "df.tail()  #check last 5 rows"
   ]
  },
  {
   "cell_type": "code",
   "execution_count": null,
   "metadata": {},
   "outputs": [],
   "source": [
    "df.info() #shows number of non-empty entries per column"
   ]
  },
  {
   "cell_type": "code",
   "execution_count": null,
   "metadata": {},
   "outputs": [],
   "source": [
    "df.shape()  #outputs (number of rows, number of columns)"
   ]
  },
  {
   "cell_type": "markdown",
   "metadata": {},
   "source": [
    "### 2.3 Slicing a DataFrame"
   ]
  },
  {
   "cell_type": "markdown",
   "metadata": {},
   "source": [
    "#### 2.3.1. By Column\n",
    "Columns may be examined one-by-one using brackets. The result may be written as a series or a dataframe"
   ]
  },
  {
   "cell_type": "code",
   "execution_count": null,
   "metadata": {
    "colab": {},
    "colab_type": "code",
    "id": "Q9GRTovQp9Dp",
    "outputId": "c3a55c0c-eb11-42ef-f3ac-bb5ac6ceab8e",
    "scrolled": true
   },
   "outputs": [],
   "source": [
    "df['animal'] #this yields a pandas series"
   ]
  },
  {
   "cell_type": "markdown",
   "metadata": {},
   "source": [
    "A hunch may be confirmed on why accessing columns return Series objects -- this is exactly because a dataframe is a combination of Series objects! \n",
    "![Series + Series = DataFrame](https://raw.githubusercontent.com/dhrunlauwers/teaching-challenge/master/lesson-material/images/series-and-dataframe.png )"
   ]
  },
  {
   "cell_type": "code",
   "execution_count": null,
   "metadata": {
    "colab": {},
    "colab_type": "code",
    "id": "dCUaX_vCp9Dr",
    "outputId": "4c5a2703-3536-4b30-f843-36fbf664e8ae"
   },
   "outputs": [],
   "source": [
    "df[['animal']] #this yields a pandas data frame"
   ]
  },
  {
   "cell_type": "code",
   "execution_count": null,
   "metadata": {
    "colab": {},
    "colab_type": "code",
    "id": "HMVYQMjnp9D-",
    "outputId": "ff95e856-801e-4075-ca82-f49dee1483f2"
   },
   "outputs": [],
   "source": [
    "df.animal       # retrieve by attribute"
   ]
  },
  {
   "cell_type": "code",
   "execution_count": null,
   "metadata": {
    "scrolled": true
   },
   "outputs": [],
   "source": [
    "df[['animal','water_need']]   #get 2 columns"
   ]
  },
  {
   "cell_type": "markdown",
   "metadata": {},
   "source": [
    "#### 2.3.2 By Row\n",
    "\n",
    "Rows may be selected using the `.loc` command"
   ]
  },
  {
   "cell_type": "code",
   "execution_count": null,
   "metadata": {},
   "outputs": [],
   "source": [
    "df.loc[:2]"
   ]
  },
  {
   "cell_type": "markdown",
   "metadata": {},
   "source": [
    "This is quite useful when using customized indices"
   ]
  },
  {
   "cell_type": "code",
   "execution_count": null,
   "metadata": {
    "scrolled": true
   },
   "outputs": [],
   "source": [
    "df2 = df.set_index('id')\n",
    "df2"
   ]
  },
  {
   "cell_type": "code",
   "execution_count": null,
   "metadata": {},
   "outputs": [],
   "source": [
    "df2.loc[1011]"
   ]
  },
  {
   "cell_type": "code",
   "execution_count": null,
   "metadata": {},
   "outputs": [],
   "source": [
    "df2.loc[[1011,1012,1013]]"
   ]
  },
  {
   "cell_type": "markdown",
   "metadata": {},
   "source": [
    "For dataframes with custom index, the index locator `.iloc` or the simple bracket indexer `[]` might be more helpful"
   ]
  },
  {
   "cell_type": "code",
   "execution_count": null,
   "metadata": {},
   "outputs": [],
   "source": [
    "df2[5:10]"
   ]
  },
  {
   "cell_type": "code",
   "execution_count": null,
   "metadata": {},
   "outputs": [],
   "source": [
    "df2.iloc[5:10]"
   ]
  },
  {
   "cell_type": "markdown",
   "metadata": {},
   "source": [
    "#### 2.3.3 Custom Slicing"
   ]
  },
  {
   "cell_type": "code",
   "execution_count": null,
   "metadata": {
    "colab": {},
    "colab_type": "code",
    "id": "QpQ1HArAp9EH",
    "outputId": "630f50e4-6e60-45c6-bb61-9f0c49cf24e4"
   },
   "outputs": [],
   "source": [
    "df['animal'][2]"
   ]
  },
  {
   "cell_type": "code",
   "execution_count": null,
   "metadata": {
    "colab": {},
    "colab_type": "code",
    "id": "UNkAx6q7p9EK",
    "outputId": "71041017-ee54-47bf-a55c-6d9bb7f2d48b"
   },
   "outputs": [],
   "source": [
    "df['water_need'][1:3]"
   ]
  },
  {
   "cell_type": "code",
   "execution_count": null,
   "metadata": {
    "colab": {},
    "colab_type": "code",
    "id": "mMeBch0jp9EQ",
    "outputId": "9feb21f6-424b-4ac8-8530-eeccd080f164"
   },
   "outputs": [],
   "source": [
    "df[['animal','water_need']][1:3]"
   ]
  },
  {
   "cell_type": "code",
   "execution_count": null,
   "metadata": {},
   "outputs": [],
   "source": [
    "# select as a matrix \n",
    "df.iloc[1:5]"
   ]
  },
  {
   "cell_type": "code",
   "execution_count": null,
   "metadata": {},
   "outputs": [],
   "source": [
    "# select as a matrix \n",
    "df.iloc[1:5,2]"
   ]
  },
  {
   "cell_type": "markdown",
   "metadata": {
    "colab_type": "text",
    "id": "oUSmjJ05p9FC"
   },
   "source": [
    "### 2.4 Sorting a DataFrame\n",
    "- It is possible to order the rows of data frames using `sort_values()`.  This object method takes a column name as an argument.\n",
    "- It is used on the new_features data frame to order by date of inception, as follows:\n"
   ]
  },
  {
   "cell_type": "code",
   "execution_count": null,
   "metadata": {
    "colab": {},
    "colab_type": "code",
    "id": "6t1xEcU4p9FC",
    "outputId": "80deb58d-4dba-4a59-ab65-7d81c341e5b9"
   },
   "outputs": [],
   "source": [
    "df.sort_values('water_need')"
   ]
  },
  {
   "cell_type": "markdown",
   "metadata": {
    "colab_type": "text",
    "id": "Z1kRwxb4p9FD"
   },
   "source": [
    "By default the sort is done in ascending order.  To apply the sort in decending order, set the `ascending` parameter to `False`."
   ]
  },
  {
   "cell_type": "code",
   "execution_count": null,
   "metadata": {
    "colab": {},
    "colab_type": "code",
    "id": "EVRl660rp9FE",
    "outputId": "e2c7ec40-c740-4803-96e1-760dd39ad9d0"
   },
   "outputs": [],
   "source": [
    "df.sort_values('water_need',ascending=False)"
   ]
  },
  {
   "cell_type": "markdown",
   "metadata": {
    "colab_type": "text",
    "id": "ngT4WfM9p9Fb"
   },
   "source": [
    "### 2.5 Filtering a DataFrame\n",
    "First, lets see what happens to a Series object under a conditional "
   ]
  },
  {
   "cell_type": "code",
   "execution_count": null,
   "metadata": {},
   "outputs": [],
   "source": [
    "df['water_need']>=200"
   ]
  },
  {
   "cell_type": "markdown",
   "metadata": {},
   "source": [
    "A DataFrame may be filtered by passing this Series of booleans into the bracket operator"
   ]
  },
  {
   "cell_type": "code",
   "execution_count": null,
   "metadata": {
    "scrolled": true
   },
   "outputs": [],
   "source": [
    "df[df['water_need']>200]"
   ]
  },
  {
   "cell_type": "markdown",
   "metadata": {},
   "source": [
    "You may also combine the conditionals"
   ]
  },
  {
   "cell_type": "code",
   "execution_count": null,
   "metadata": {},
   "outputs": [],
   "source": [
    "df[(df['water_need']>200)&(df['animal']=='tiger')]"
   ]
  },
  {
   "cell_type": "markdown",
   "metadata": {},
   "source": [
    "`.between` is a convenient way to filter within a range"
   ]
  },
  {
   "cell_type": "code",
   "execution_count": null,
   "metadata": {},
   "outputs": [],
   "source": [
    "df[(df['water_need'].between(300,500))] #equivalent to df[(df['water_need']>300)&(df['water_need']<500)]"
   ]
  },
  {
   "cell_type": "markdown",
   "metadata": {},
   "source": [
    "`isin` is a convenient way of filtering given a lookup list"
   ]
  },
  {
   "cell_type": "code",
   "execution_count": null,
   "metadata": {},
   "outputs": [],
   "source": [
    "df[(df['water_need'].between(300,500))&(df['animal'].isin(['tiger','lion']))] #equivalent to df[(df['water_need']>300)&(df['water_need']<500)]"
   ]
  },
  {
   "cell_type": "markdown",
   "metadata": {
    "colab_type": "text",
    "id": "ObcK_8yzp9F9"
   },
   "source": [
    "### 2.6 Removing and Adding entries in a Dataframe"
   ]
  },
  {
   "cell_type": "markdown",
   "metadata": {},
   "source": [
    "#### 2.6.1 Removing methods"
   ]
  },
  {
   "cell_type": "code",
   "execution_count": null,
   "metadata": {
    "colab": {},
    "colab_type": "code",
    "id": "94Ig4OVDp9F9",
    "scrolled": true
   },
   "outputs": [],
   "source": [
    "#this removes row 'two'\n",
    "df.loc[df.index != 2]"
   ]
  },
  {
   "cell_type": "code",
   "execution_count": null,
   "metadata": {
    "colab": {},
    "colab_type": "code",
    "id": "qiifEld0p9F-"
   },
   "outputs": [],
   "source": [
    "#this removes column 'a'\n",
    "df.drop('animal', axis = 1)"
   ]
  },
  {
   "cell_type": "code",
   "execution_count": null,
   "metadata": {
    "scrolled": true
   },
   "outputs": [],
   "source": [
    "#remove all rows with tiger\n",
    "df.loc[df['animal'] != 'tiger']"
   ]
  },
  {
   "cell_type": "markdown",
   "metadata": {
    "colab_type": "text",
    "id": "nlJcY5lRp9F_"
   },
   "source": [
    "- Rows and columns may also be removed using fancy indexing or `drop()`."
   ]
  },
  {
   "cell_type": "markdown",
   "metadata": {},
   "source": [
    "#### 2.6.2 Adding methods"
   ]
  },
  {
   "cell_type": "code",
   "execution_count": null,
   "metadata": {
    "colab": {},
    "colab_type": "code",
    "id": "0jY2kfoep9F_"
   },
   "outputs": [],
   "source": [
    "#this adds a row at the end of the dataset\n",
    "df.loc[len(df)] = ['zookeper',0000,50,3]\n",
    "df"
   ]
  },
  {
   "cell_type": "code",
   "execution_count": null,
   "metadata": {
    "colab": {},
    "colab_type": "code",
    "id": "Nhd18URvp9GC"
   },
   "outputs": [],
   "source": [
    "#add a column with constant value\n",
    "df['is_alive'] = True\n",
    "df"
   ]
  },
  {
   "cell_type": "markdown",
   "metadata": {},
   "source": [
    "### 2.7 DataFrame Aggregations\n",
    "We can take some basic stats on the dataframe"
   ]
  },
  {
   "cell_type": "code",
   "execution_count": null,
   "metadata": {},
   "outputs": [],
   "source": [
    "df['water_need'].mean()"
   ]
  },
  {
   "cell_type": "code",
   "execution_count": null,
   "metadata": {},
   "outputs": [],
   "source": [
    "df['water_need'].median()"
   ]
  },
  {
   "cell_type": "code",
   "execution_count": null,
   "metadata": {},
   "outputs": [],
   "source": [
    "df[df['animal']=='elephant']['water_need'].mean()"
   ]
  },
  {
   "cell_type": "code",
   "execution_count": null,
   "metadata": {},
   "outputs": [],
   "source": [
    "#reset\n",
    "df = pd.read_csv(\"zoo.csv\")"
   ]
  },
  {
   "cell_type": "markdown",
   "metadata": {
    "colab_type": "text",
    "id": "pyBVDzC3p9GF"
   },
   "source": [
    "### 2.8 Handling Missing Data\n",
    "\n",
    "- Missing or, equivalently, corrupt data is an unavoidable reality in processing large data sets.  There are various ways of dealing with it, depending upon the circumstances:\n",
    " - Discard it, and all related data.\n",
    " - Interpolate values from surrounding data\n",
    " - Isolate it and analyze it separately\n",
    "\n",
    "- Which approach to use is a scientific question.  Whatever approach is chosen, pandas has computational methods to carry it out."
   ]
  },
  {
   "cell_type": "markdown",
   "metadata": {
    "colab_type": "text",
    "id": "kWe9UdJNp9GG"
   },
   "source": [
    "- To figure out where the missing data is, use the `isnull()` method."
   ]
  },
  {
   "cell_type": "code",
   "execution_count": null,
   "metadata": {
    "colab": {},
    "colab_type": "code",
    "id": "PBPPqJLpp9GH",
    "outputId": "603ba993-74ea-491a-c51b-e19cff62c855"
   },
   "outputs": [],
   "source": [
    "df.isnull()"
   ]
  },
  {
   "cell_type": "markdown",
   "metadata": {
    "colab_type": "text",
    "id": "TZrpZS91p9GJ"
   },
   "source": [
    "- Summing up the boolean array reports how many missing values are in each column."
   ]
  },
  {
   "cell_type": "code",
   "execution_count": null,
   "metadata": {
    "colab": {},
    "colab_type": "code",
    "id": "ldjGTHUEp9GK",
    "outputId": "241b2209-9ef5-4e34-c450-83b30031f639"
   },
   "outputs": [],
   "source": [
    "np.sum(df.isnull())"
   ]
  },
  {
   "cell_type": "markdown",
   "metadata": {
    "colab_type": "text",
    "id": "z1KE4h4Sp9GN"
   },
   "source": [
    "- To isolate the rows in which there are null values, aggregate the `df.isnull()` boolean data frame along rows, using `any` with `axis=1`."
   ]
  },
  {
   "cell_type": "code",
   "execution_count": null,
   "metadata": {
    "colab": {},
    "colab_type": "code",
    "id": "9yAKqWFhp9GN",
    "outputId": "2e0fdfb0-bf79-4190-b74c-25722e50e8c7"
   },
   "outputs": [],
   "source": [
    "df.loc[df.isnull().any(axis=1)]"
   ]
  },
  {
   "cell_type": "markdown",
   "metadata": {},
   "source": [
    "- If you want to isolate only those `_need` rows with all null columns, use `all` instead, with `axis=1`."
   ]
  },
  {
   "cell_type": "code",
   "execution_count": null,
   "metadata": {},
   "outputs": [],
   "source": [
    "df.loc[df[['water_need','meat_need']].isnull().all(axis=1)]"
   ]
  },
  {
   "cell_type": "markdown",
   "metadata": {},
   "source": [
    "We can drop the rows with nulls"
   ]
  },
  {
   "cell_type": "code",
   "execution_count": null,
   "metadata": {
    "scrolled": true
   },
   "outputs": [],
   "source": [
    "df.loc[~df.isnull().any(axis=1)]"
   ]
  },
  {
   "cell_type": "markdown",
   "metadata": {},
   "source": [
    "\n",
    "An alternative to discarding information is to **impute** the data. \n",
    "This can be done with the `fillna()` function with the value to be imputed as the argument."
   ]
  },
  {
   "cell_type": "code",
   "execution_count": null,
   "metadata": {},
   "outputs": [],
   "source": [
    "df['meat_need'].fillna(0)"
   ]
  },
  {
   "cell_type": "markdown",
   "metadata": {},
   "source": [
    "Another common way to impute is by the mean of the column."
   ]
  },
  {
   "cell_type": "code",
   "execution_count": null,
   "metadata": {},
   "outputs": [],
   "source": [
    "df['water_need'].fillna(df['water_need'].mean())"
   ]
  },
  {
   "cell_type": "markdown",
   "metadata": {
    "colab_type": "text",
    "id": "pz1DkXXip9GR"
   },
   "source": [
    "### Exercise\n",
    "\n",
    "Read the csv 'employees.csv'\n",
    "\n",
    "Print the data frame, looking for missing values by inspection."
   ]
  },
  {
   "cell_type": "code",
   "execution_count": 1,
   "metadata": {
    "colab": {},
    "colab_type": "code",
    "id": "mPnQKeM_p9GS",
    "outputId": "8036b1f9-eb5b-4a7c-a8a0-2534cbe1faed"
   },
   "outputs": [
    {
     "data": {
      "text/html": [
       "<div>\n",
       "<style scoped>\n",
       "    .dataframe tbody tr th:only-of-type {\n",
       "        vertical-align: middle;\n",
       "    }\n",
       "\n",
       "    .dataframe tbody tr th {\n",
       "        vertical-align: top;\n",
       "    }\n",
       "\n",
       "    .dataframe thead th {\n",
       "        text-align: right;\n",
       "    }\n",
       "</style>\n",
       "<table border=\"1\" class=\"dataframe\">\n",
       "  <thead>\n",
       "    <tr style=\"text-align: right;\">\n",
       "      <th></th>\n",
       "      <th>Department</th>\n",
       "      <th>Education</th>\n",
       "      <th>Sex</th>\n",
       "      <th>Title</th>\n",
       "      <th>Year</th>\n",
       "      <th>Name</th>\n",
       "      <th>Salary</th>\n",
       "    </tr>\n",
       "  </thead>\n",
       "  <tbody>\n",
       "    <tr>\n",
       "      <th>0</th>\n",
       "      <td>IT</td>\n",
       "      <td>Bachelor</td>\n",
       "      <td>M</td>\n",
       "      <td>analyst</td>\n",
       "      <td>1.0</td>\n",
       "      <td>Bob</td>\n",
       "      <td>90.0</td>\n",
       "    </tr>\n",
       "    <tr>\n",
       "      <th>1</th>\n",
       "      <td>IT</td>\n",
       "      <td>Master</td>\n",
       "      <td>M</td>\n",
       "      <td>analyst</td>\n",
       "      <td>2.0</td>\n",
       "      <td>Jake</td>\n",
       "      <td>90.0</td>\n",
       "    </tr>\n",
       "    <tr>\n",
       "      <th>2</th>\n",
       "      <td>HR</td>\n",
       "      <td>Master</td>\n",
       "      <td>M</td>\n",
       "      <td>analyst</td>\n",
       "      <td>2.0</td>\n",
       "      <td>John</td>\n",
       "      <td>90.0</td>\n",
       "    </tr>\n",
       "    <tr>\n",
       "      <th>3</th>\n",
       "      <td>HR</td>\n",
       "      <td>Bachelor</td>\n",
       "      <td>F</td>\n",
       "      <td>analyst</td>\n",
       "      <td>2.0</td>\n",
       "      <td>Judy</td>\n",
       "      <td>90.0</td>\n",
       "    </tr>\n",
       "    <tr>\n",
       "      <th>4</th>\n",
       "      <td>Trade</td>\n",
       "      <td>PHD</td>\n",
       "      <td>M</td>\n",
       "      <td>associate</td>\n",
       "      <td>3.0</td>\n",
       "      <td>Sam</td>\n",
       "      <td>120.0</td>\n",
       "    </tr>\n",
       "    <tr>\n",
       "      <th>5</th>\n",
       "      <td>?</td>\n",
       "      <td>PHD</td>\n",
       "      <td>F</td>\n",
       "      <td>associate</td>\n",
       "      <td>5.0</td>\n",
       "      <td>Amy</td>\n",
       "      <td>120.0</td>\n",
       "    </tr>\n",
       "    <tr>\n",
       "      <th>6</th>\n",
       "      <td>Trade</td>\n",
       "      <td>Master</td>\n",
       "      <td>F</td>\n",
       "      <td>associate</td>\n",
       "      <td>NaN</td>\n",
       "      <td>Jennifer</td>\n",
       "      <td>120.0</td>\n",
       "    </tr>\n",
       "    <tr>\n",
       "      <th>7</th>\n",
       "      <td>HR</td>\n",
       "      <td>Master</td>\n",
       "      <td>M</td>\n",
       "      <td>VP</td>\n",
       "      <td>8.0</td>\n",
       "      <td>Peter</td>\n",
       "      <td>262.5</td>\n",
       "    </tr>\n",
       "    <tr>\n",
       "      <th>8</th>\n",
       "      <td>IT</td>\n",
       "      <td>?</td>\n",
       "      <td>F</td>\n",
       "      <td>VP</td>\n",
       "      <td>9.0</td>\n",
       "      <td>Mary</td>\n",
       "      <td>262.5</td>\n",
       "    </tr>\n",
       "  </tbody>\n",
       "</table>\n",
       "</div>"
      ],
      "text/plain": [
       "  Department Education Sex      Title  Year      Name  Salary\n",
       "0         IT  Bachelor   M    analyst   1.0       Bob    90.0\n",
       "1         IT    Master   M    analyst   2.0      Jake    90.0\n",
       "2         HR    Master   M    analyst   2.0      John    90.0\n",
       "3         HR  Bachelor   F    analyst   2.0      Judy    90.0\n",
       "4      Trade       PHD   M  associate   3.0       Sam   120.0\n",
       "5          ?       PHD   F  associate   5.0       Amy   120.0\n",
       "6      Trade    Master   F  associate   NaN  Jennifer   120.0\n",
       "7         HR    Master   M         VP   8.0     Peter   262.5\n",
       "8         IT         ?   F         VP   9.0      Mary   262.5"
      ]
     },
     "execution_count": 1,
     "metadata": {},
     "output_type": "execute_result"
    }
   ],
   "source": [
    "### Your code here\n",
    "import pandas as pd\n",
    "df = pd.read_csv('employees.csv')\n",
    "df"
   ]
  },
  {
   "cell_type": "markdown",
   "metadata": {
    "colab_type": "text",
    "id": "rg4nkBidp9GT"
   },
   "source": [
    "See '?' in the data frame. For a small data frame like this the '?' may be replaced by `np.nan` manually. In dealing with a large data frame, it is more efficient to use the function `replace`. https://pandas.pydata.org/pandas-docs/stable/reference/api/pandas.DataFrame.replace.html\n",
    "\n",
    "Use `replace` to swap '?' with `np.nan`. "
   ]
  },
  {
   "cell_type": "code",
   "execution_count": 11,
   "metadata": {
    "colab": {},
    "colab_type": "code",
    "id": "0kLsHWOup9GT"
   },
   "outputs": [
    {
     "data": {
      "text/html": [
       "<div>\n",
       "<style scoped>\n",
       "    .dataframe tbody tr th:only-of-type {\n",
       "        vertical-align: middle;\n",
       "    }\n",
       "\n",
       "    .dataframe tbody tr th {\n",
       "        vertical-align: top;\n",
       "    }\n",
       "\n",
       "    .dataframe thead th {\n",
       "        text-align: right;\n",
       "    }\n",
       "</style>\n",
       "<table border=\"1\" class=\"dataframe\">\n",
       "  <thead>\n",
       "    <tr style=\"text-align: right;\">\n",
       "      <th></th>\n",
       "      <th>Department</th>\n",
       "      <th>Education</th>\n",
       "      <th>Sex</th>\n",
       "      <th>Title</th>\n",
       "      <th>Year</th>\n",
       "      <th>Name</th>\n",
       "      <th>Salary</th>\n",
       "    </tr>\n",
       "  </thead>\n",
       "  <tbody>\n",
       "    <tr>\n",
       "      <th>0</th>\n",
       "      <td>IT</td>\n",
       "      <td>Bachelor</td>\n",
       "      <td>M</td>\n",
       "      <td>analyst</td>\n",
       "      <td>1.0</td>\n",
       "      <td>Bob</td>\n",
       "      <td>90.0</td>\n",
       "    </tr>\n",
       "    <tr>\n",
       "      <th>1</th>\n",
       "      <td>IT</td>\n",
       "      <td>Master</td>\n",
       "      <td>M</td>\n",
       "      <td>analyst</td>\n",
       "      <td>2.0</td>\n",
       "      <td>Jake</td>\n",
       "      <td>90.0</td>\n",
       "    </tr>\n",
       "    <tr>\n",
       "      <th>2</th>\n",
       "      <td>HR</td>\n",
       "      <td>Master</td>\n",
       "      <td>M</td>\n",
       "      <td>analyst</td>\n",
       "      <td>2.0</td>\n",
       "      <td>John</td>\n",
       "      <td>90.0</td>\n",
       "    </tr>\n",
       "    <tr>\n",
       "      <th>3</th>\n",
       "      <td>HR</td>\n",
       "      <td>Bachelor</td>\n",
       "      <td>F</td>\n",
       "      <td>analyst</td>\n",
       "      <td>2.0</td>\n",
       "      <td>Judy</td>\n",
       "      <td>90.0</td>\n",
       "    </tr>\n",
       "    <tr>\n",
       "      <th>4</th>\n",
       "      <td>Trade</td>\n",
       "      <td>PHD</td>\n",
       "      <td>M</td>\n",
       "      <td>associate</td>\n",
       "      <td>3.0</td>\n",
       "      <td>Sam</td>\n",
       "      <td>120.0</td>\n",
       "    </tr>\n",
       "  </tbody>\n",
       "</table>\n",
       "</div>"
      ],
      "text/plain": [
       "  Department Education Sex      Title  Year  Name  Salary\n",
       "0         IT  Bachelor   M    analyst   1.0   Bob    90.0\n",
       "1         IT    Master   M    analyst   2.0  Jake    90.0\n",
       "2         HR    Master   M    analyst   2.0  John    90.0\n",
       "3         HR  Bachelor   F    analyst   2.0  Judy    90.0\n",
       "4      Trade       PHD   M  associate   3.0   Sam   120.0"
      ]
     },
     "execution_count": 11,
     "metadata": {},
     "output_type": "execute_result"
    }
   ],
   "source": [
    "#### Your code here\n",
    "import numpy as np\n",
    "df.replace('?',np.nan,inplace = True)\n",
    "df.head()"
   ]
  },
  {
   "cell_type": "markdown",
   "metadata": {
    "colab_type": "text",
    "id": "yFBA2ifRp9GY"
   },
   "source": [
    "Print the rows with missing values."
   ]
  },
  {
   "cell_type": "code",
   "execution_count": 13,
   "metadata": {
    "colab": {},
    "colab_type": "code",
    "id": "Cz1Z7dx0p9GY"
   },
   "outputs": [
    {
     "data": {
      "text/html": [
       "<div>\n",
       "<style scoped>\n",
       "    .dataframe tbody tr th:only-of-type {\n",
       "        vertical-align: middle;\n",
       "    }\n",
       "\n",
       "    .dataframe tbody tr th {\n",
       "        vertical-align: top;\n",
       "    }\n",
       "\n",
       "    .dataframe thead th {\n",
       "        text-align: right;\n",
       "    }\n",
       "</style>\n",
       "<table border=\"1\" class=\"dataframe\">\n",
       "  <thead>\n",
       "    <tr style=\"text-align: right;\">\n",
       "      <th></th>\n",
       "      <th>Department</th>\n",
       "      <th>Education</th>\n",
       "      <th>Sex</th>\n",
       "      <th>Title</th>\n",
       "      <th>Year</th>\n",
       "      <th>Name</th>\n",
       "      <th>Salary</th>\n",
       "    </tr>\n",
       "  </thead>\n",
       "  <tbody>\n",
       "    <tr>\n",
       "      <th>5</th>\n",
       "      <td>NaN</td>\n",
       "      <td>PHD</td>\n",
       "      <td>F</td>\n",
       "      <td>associate</td>\n",
       "      <td>5.0</td>\n",
       "      <td>Amy</td>\n",
       "      <td>120.0</td>\n",
       "    </tr>\n",
       "    <tr>\n",
       "      <th>6</th>\n",
       "      <td>Trade</td>\n",
       "      <td>Master</td>\n",
       "      <td>F</td>\n",
       "      <td>associate</td>\n",
       "      <td>NaN</td>\n",
       "      <td>Jennifer</td>\n",
       "      <td>120.0</td>\n",
       "    </tr>\n",
       "    <tr>\n",
       "      <th>8</th>\n",
       "      <td>IT</td>\n",
       "      <td>NaN</td>\n",
       "      <td>F</td>\n",
       "      <td>VP</td>\n",
       "      <td>9.0</td>\n",
       "      <td>Mary</td>\n",
       "      <td>262.5</td>\n",
       "    </tr>\n",
       "  </tbody>\n",
       "</table>\n",
       "</div>"
      ],
      "text/plain": [
       "  Department Education Sex      Title  Year      Name  Salary\n",
       "5        NaN       PHD   F  associate   5.0       Amy   120.0\n",
       "6      Trade    Master   F  associate   NaN  Jennifer   120.0\n",
       "8         IT       NaN   F         VP   9.0      Mary   262.5"
      ]
     },
     "execution_count": 13,
     "metadata": {},
     "output_type": "execute_result"
    }
   ],
   "source": [
    "#### Your code here\n",
    "df.loc[df.isnull().any(axis=1)]"
   ]
  },
  {
   "cell_type": "markdown",
   "metadata": {
    "colab_type": "text",
    "id": "sofgqm1Yp9GZ"
   },
   "source": [
    "Print the columns with missing values."
   ]
  },
  {
   "cell_type": "code",
   "execution_count": 15,
   "metadata": {
    "colab": {},
    "colab_type": "code",
    "id": "oQmToGoup9GZ"
   },
   "outputs": [
    {
     "data": {
      "text/plain": [
       "Department    1\n",
       "Education     1\n",
       "Sex           0\n",
       "Title         0\n",
       "Year          1\n",
       "Name          0\n",
       "Salary        0\n",
       "dtype: int64"
      ]
     },
     "execution_count": 15,
     "metadata": {},
     "output_type": "execute_result"
    }
   ],
   "source": [
    "#### Your code here\n",
    "np.sum(df.isnull())"
   ]
  },
  {
   "cell_type": "markdown",
   "metadata": {},
   "source": [
    "Filter all employees listed with Masters degree"
   ]
  },
  {
   "cell_type": "code",
   "execution_count": 18,
   "metadata": {},
   "outputs": [
    {
     "data": {
      "text/html": [
       "<div>\n",
       "<style scoped>\n",
       "    .dataframe tbody tr th:only-of-type {\n",
       "        vertical-align: middle;\n",
       "    }\n",
       "\n",
       "    .dataframe tbody tr th {\n",
       "        vertical-align: top;\n",
       "    }\n",
       "\n",
       "    .dataframe thead th {\n",
       "        text-align: right;\n",
       "    }\n",
       "</style>\n",
       "<table border=\"1\" class=\"dataframe\">\n",
       "  <thead>\n",
       "    <tr style=\"text-align: right;\">\n",
       "      <th></th>\n",
       "      <th>Department</th>\n",
       "      <th>Education</th>\n",
       "      <th>Sex</th>\n",
       "      <th>Title</th>\n",
       "      <th>Year</th>\n",
       "      <th>Name</th>\n",
       "      <th>Salary</th>\n",
       "    </tr>\n",
       "  </thead>\n",
       "  <tbody>\n",
       "    <tr>\n",
       "      <th>1</th>\n",
       "      <td>IT</td>\n",
       "      <td>Master</td>\n",
       "      <td>M</td>\n",
       "      <td>analyst</td>\n",
       "      <td>2.0</td>\n",
       "      <td>Jake</td>\n",
       "      <td>90.0</td>\n",
       "    </tr>\n",
       "    <tr>\n",
       "      <th>2</th>\n",
       "      <td>HR</td>\n",
       "      <td>Master</td>\n",
       "      <td>M</td>\n",
       "      <td>analyst</td>\n",
       "      <td>2.0</td>\n",
       "      <td>John</td>\n",
       "      <td>90.0</td>\n",
       "    </tr>\n",
       "    <tr>\n",
       "      <th>6</th>\n",
       "      <td>Trade</td>\n",
       "      <td>Master</td>\n",
       "      <td>F</td>\n",
       "      <td>associate</td>\n",
       "      <td>NaN</td>\n",
       "      <td>Jennifer</td>\n",
       "      <td>120.0</td>\n",
       "    </tr>\n",
       "    <tr>\n",
       "      <th>7</th>\n",
       "      <td>HR</td>\n",
       "      <td>Master</td>\n",
       "      <td>M</td>\n",
       "      <td>VP</td>\n",
       "      <td>8.0</td>\n",
       "      <td>Peter</td>\n",
       "      <td>262.5</td>\n",
       "    </tr>\n",
       "  </tbody>\n",
       "</table>\n",
       "</div>"
      ],
      "text/plain": [
       "  Department Education Sex      Title  Year      Name  Salary\n",
       "1         IT    Master   M    analyst   2.0      Jake    90.0\n",
       "2         HR    Master   M    analyst   2.0      John    90.0\n",
       "6      Trade    Master   F  associate   NaN  Jennifer   120.0\n",
       "7         HR    Master   M         VP   8.0     Peter   262.5"
      ]
     },
     "execution_count": 18,
     "metadata": {},
     "output_type": "execute_result"
    }
   ],
   "source": [
    "#### Your code here\n",
    "df_master = df[df['Education'] == \"Master\"]\n",
    "df_master.head()"
   ]
  },
  {
   "cell_type": "markdown",
   "metadata": {},
   "source": [
    "Get the average salary of the IT Department"
   ]
  },
  {
   "cell_type": "code",
   "execution_count": 19,
   "metadata": {},
   "outputs": [
    {
     "data": {
      "text/plain": [
       "147.5"
      ]
     },
     "execution_count": 19,
     "metadata": {},
     "output_type": "execute_result"
    }
   ],
   "source": [
    "#### Your code here\n",
    "df[df['Department']==\"IT\"]['Salary'].mean()"
   ]
  },
  {
   "cell_type": "markdown",
   "metadata": {},
   "source": [
    "Get the average years of the HR Department"
   ]
  },
  {
   "cell_type": "code",
   "execution_count": null,
   "metadata": {},
   "outputs": [],
   "source": [
    "#### Your code here"
   ]
  },
  {
   "cell_type": "code",
   "execution_count": 20,
   "metadata": {},
   "outputs": [
    {
     "data": {
      "text/plain": [
       "4.0"
      ]
     },
     "execution_count": 20,
     "metadata": {},
     "output_type": "execute_result"
    }
   ],
   "source": [
    "df[df.Department == \"HR\"]['Year'].mean()"
   ]
  },
  {
   "cell_type": "code",
   "execution_count": 21,
   "metadata": {},
   "outputs": [
    {
     "data": {
      "text/plain": [
       "4.0"
      ]
     },
     "execution_count": 21,
     "metadata": {},
     "output_type": "execute_result"
    }
   ],
   "source": [
    "df[df.Department == \"HR\"].Year.mean()"
   ]
  },
  {
   "cell_type": "code",
   "execution_count": null,
   "metadata": {},
   "outputs": [],
   "source": []
  }
 ],
 "metadata": {
  "anaconda-cloud": {},
  "colab": {
   "name": "04_Data_Manipulation_with_Pandas.ipynb",
   "provenance": []
  },
  "kernelspec": {
   "display_name": "Python 3",
   "language": "python",
   "name": "python3"
  },
  "language_info": {
   "codemirror_mode": {
    "name": "ipython",
    "version": 3
   },
   "file_extension": ".py",
   "mimetype": "text/x-python",
   "name": "python",
   "nbconvert_exporter": "python",
   "pygments_lexer": "ipython3",
   "version": "3.8.8"
  }
 },
 "nbformat": 4,
 "nbformat_minor": 4
}
